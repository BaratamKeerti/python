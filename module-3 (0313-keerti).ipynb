{
 "cells": [
  {
   "cell_type": "markdown",
   "id": "f8b203b8",
   "metadata": {},
   "source": [
    "# Baratam Keerti - VU21CSEN0100313.\n",
    "\n",
    "# Module 3 programs."
   ]
  },
  {
   "cell_type": "code",
   "execution_count": 1,
   "id": "42a1cdab",
   "metadata": {},
   "outputs": [
    {
     "name": "stdout",
     "output_type": "stream",
     "text": [
      "Some important topics in python are:\n",
      "Python syntax\n",
      "Datatypes\n",
      "Numbers\n",
      "File handling\n",
      "pandas\n",
      "JSON files\n",
      "\n"
     ]
    }
   ],
   "source": [
    "# read an entire text file.\n",
    "a=open(\"C:/Users/keert/OneDrive/Documents/Python Scripts//python.txt\")\n",
    "print(a.read())"
   ]
  },
  {
   "cell_type": "code",
   "execution_count": 3,
   "id": "a2f652aa",
   "metadata": {},
   "outputs": [
    {
     "name": "stdout",
     "output_type": "stream",
     "text": [
      "Some important topics in python are:\n",
      "\n",
      "Python syntax\n",
      "\n",
      "Datatypes\n",
      "\n"
     ]
    }
   ],
   "source": [
    "#read the first n lines of a file. \n",
    "a=open(\"C:/Users/keert/OneDrive/Documents/Python Scripts//python.txt\")\n",
    "for i in range(1,4):\n",
    "    print(a.readline())"
   ]
  },
  {
   "cell_type": "code",
   "execution_count": 27,
   "id": "58c6adc5",
   "metadata": {},
   "outputs": [
    {
     "name": "stdout",
     "output_type": "stream",
     "text": [
      "Python is a popular programming language.\n",
      "Python can be used on a server to create web applications.\n",
      "Python is a programming language that lets you work quickly.\n",
      "It integrates systems more effectively.\n",
      "Python's convenience has made it popular for machine learning and artificial intelligence.\n",
      "Python's flexibility has allowed Any scale to make ML/AI scalable from laptops to clusters.\n",
      "Python is a high-level, general-purpose and a very popular programming language.\n",
      "Python programming language (latest Python 3) is being used in web development.\n",
      "Python allows mandatory and optional arguments, keyword arguments, and even arbitrary argument lists.\n"
     ]
    }
   ],
   "source": [
    "# append text to a file and display the text.\n",
    "a=open(\"C:/Users/keert/OneDrive/Documents/Python Scripts//python.txt\",'a')\n",
    "a.write(\"\\n\")\n",
    "a.write(\"Python allows mandatory and optional arguments, keyword arguments, and even arbitrary argument lists.\")\n",
    "a.close()\n",
    "a=open(\"C:/Users/keert/OneDrive/Documents/Python Scripts//python.txt\",'r')\n",
    "print(a.read())\n",
    "a.close()"
   ]
  },
  {
   "cell_type": "code",
   "execution_count": 1,
   "id": "100dcd4c",
   "metadata": {},
   "outputs": [
    {
     "name": "stdout",
     "output_type": "stream",
     "text": [
      "Even numbers are:342\n",
      "78\n",
      "34\n",
      "6\n",
      "32\n",
      "68\n",
      "76\n",
      "234\n",
      "542\n",
      "7890\n",
      "2323234\n",
      "697860980\n",
      "212\n",
      "90756232\n",
      "78\n",
      "4\n",
      "67598\n",
      "Odd numbers are:675\n",
      "63\n",
      "657\n",
      "897\n",
      "3\n",
      "45\n",
      "7564321\n",
      "54235\n",
      "653\n",
      "315\n",
      "780989\n",
      "54546789\n",
      "125466889\n",
      "89\n",
      "23\n",
      "\n"
     ]
    }
   ],
   "source": [
    "#Read numbers from a file and write even and odd numbers to separate files.\n",
    "a=open(\"C:/Users/keert/OneDrive/Documents/Python Scripts//num.txt\",'r')\n",
    "b=open(\"Even.txt\",'x')\n",
    "b.write(\"Even numbers are:\")\n",
    "for i in a:\n",
    "    if int(i)%2==0:\n",
    "        b=open(\"Even.txt\",'a')\n",
    "        b.write(i)\n",
    "b.close()\n",
    "b=open(\"Even.txt\",'r')\n",
    "print(b.read())\n",
    "a=open(\"C:/Users/keert/OneDrive/Documents/Python Scripts//num.txt\",'r')\n",
    "c=open(\"Odd.txt\",'x')\n",
    "c.write(\"Odd numbers are:\")\n",
    "for i in a:\n",
    "    if int(i)%2!=0:\n",
    "        c=open(\"Odd.txt\",'a')\n",
    "        c.write(i)\n",
    "c.close()\n",
    "c=open(\"Odd.txt\",'r')\n",
    "print(c.read())"
   ]
  },
  {
   "cell_type": "code",
   "execution_count": 51,
   "id": "8177b697",
   "metadata": {},
   "outputs": [
    {
     "name": "stdout",
     "output_type": "stream",
     "text": [
      "no.of lines in the text are: 9\n",
      "no.of words in the text are: 94\n",
      "no.of chracters in the text are: 647\n"
     ]
    }
   ],
   "source": [
    "# Count characters, words and lines in a text file.\n",
    "a=open(\"C:/Users/keert/OneDrive/Documents/Python Scripts//python.txt\",'r')\n",
    "lines=words=characters=0\n",
    "for i in a:\n",
    "    lines+=1\n",
    "    word=i.split()\n",
    "    words+=len(word)\n",
    "    characters+=len(i)\n",
    "print(\"no.of lines in the text are:\",lines)\n",
    "print(\"no.of words in the text are:\",words)\n",
    "print(\"no.of chracters in the text are:\",characters)"
   ]
  },
  {
   "cell_type": "code",
   "execution_count": 59,
   "id": "12652e73",
   "metadata": {},
   "outputs": [
    {
     "name": "stdout",
     "output_type": "stream",
     "text": [
      "Some important topics in python are:\n",
      "Python syntax\n",
      "Datatypes\n",
      "Numbers\n",
      "File handling\n",
      "pandas\n",
      "JSON files\n",
      "\n"
     ]
    }
   ],
   "source": [
    "# To write a list to a file.\n",
    "list=[\"Some important topics in python are:\",\"Python syntax\",\"Datatypes\",\"Numbers\",\"File handling\",\"pandas\",\"JSON files\"]\n",
    "a=open(\"C:/Users/keert/OneDrive/Documents/Python Scripts//python.txt\",'w')\n",
    "for i in list:\n",
    "    a.writelines((i+\"\\n\"))\n",
    "a.close()\n",
    "a=open(\"C:/Users/keert/OneDrive/Documents/Python Scripts//python.txt\",'r')\n",
    "print(a.read())"
   ]
  },
  {
   "cell_type": "code",
   "execution_count": 2,
   "id": "41052894",
   "metadata": {},
   "outputs": [
    {
     "name": "stdout",
     "output_type": "stream",
     "text": [
      "    s.i.no.      name  occupation  salary\n",
      "0       1.0  subbaiah  supervisor  50,000\n",
      "1       2.0   ramaiah    employee   20000\n",
      "2       3.0   ishitha     manager   60000\n",
      "3       4.0    roshan     manager   50000\n",
      "4       5.0    urmila    employee   25000\n",
      "5       6.0      siri       clerk    7500\n",
      "6       7.0    reshma     manager   55000\n",
      "7       8.0   koushik    employee   30000\n",
      "8       9.0   chandra    employee   27000\n",
      "9      10.0     varun  supervisor   55000\n",
      "10      NaN       NaN     Average  37,950\n"
     ]
    }
   ],
   "source": [
    "# Given a CSV file or excel file to read it into a dataframe and display it.\n",
    "import pandas as pd\n",
    "a=pd.read_csv(\"C:/Users/keert/OneDrive/Documents//salary.csv\")\n",
    "b=pd.DataFrame(a)\n",
    "print(b)"
   ]
  },
  {
   "cell_type": "code",
   "execution_count": 10,
   "id": "5ef7c578",
   "metadata": {},
   "outputs": [
    {
     "name": "stdout",
     "output_type": "stream",
     "text": [
      "The original dataframe is:\n",
      "        Name  Age  Weight   stream\n",
      "0    keerti   17      66      mpc\n",
      "1   yasaswi   16      45     bipc\n",
      "2     radha   19      56       CA\n",
      "3     ashok   20      57   civils\n",
      "4  kausalya   12      45  seventh\n",
      "5       ram   14      47    ninth\n",
      "6  lakshman   13      46    eigth\n",
      "The selected dataframe is:\n",
      "      Name  Age  Weight  stream\n",
      "0  keerti   17      66     mpc\n",
      "2   radha   19      56      CA\n",
      "3   ashok   20      57  civils\n"
     ]
    }
   ],
   "source": [
    "# Given a dataframe, select rows based on a condition\n",
    "import pandas as pd\n",
    "list={\n",
    "    'Name'  : ['keerti','yasaswi','radha','ashok','kausalya','ram','lakshman'],\n",
    "    'Age'   : [17,16,19,20,12,14,13],\n",
    "    'Weight': [66,45,56,57,45,47,46],\n",
    "    'stream': ['mpc','bipc','CA','civils','seventh','ninth','eigth']\n",
    "}\n",
    "a=pd.DataFrame(list,columns=['Name','Age','Weight','stream'])\n",
    "print(\"The original dataframe is:\\n\",a)\n",
    "b=a.loc[a['Weight']>=56]\n",
    "print(\"The selected dataframe is:\\n\",b)"
   ]
  },
  {
   "cell_type": "code",
   "execution_count": null,
   "id": "8142ca69",
   "metadata": {},
   "outputs": [],
   "source": [
    "#Given is a dataframe showing the name, occupation, salary of people. Find the average salary per occupation. \n",
    "import pandas as pd\n",
    "a=\"C:/Users/keert/OneDrive/Documents//salary.csv\"\n",
    "b=pd.read_csv(a)\n",
    "c=b.groupby('occupation')['salary'].mean()\n",
    "print(c)"
   ]
  },
  {
   "cell_type": "code",
   "execution_count": 3,
   "id": "6f8d2449",
   "metadata": {},
   "outputs": [
    {
     "name": "stdout",
     "output_type": "stream",
     "text": [
      "{\"name\": \"keerti\", \"age\": 17, \"branch\": \"cse core\", \"sem\": \"1\"}\n"
     ]
    }
   ],
   "source": [
    "# To convert Python objects into JSON strings. Print all the values.\n",
    "import json\n",
    "a={\n",
    "    'name'  : 'keerti',\n",
    "    'age'   : 17,\n",
    "    'branch': 'cse core',\n",
    "    'sem'   : '1' \n",
    "}\n",
    "my_json_dict=json.dumps(a)\n",
    "print(my_json_dict)"
   ]
  },
  {
   "cell_type": "code",
   "execution_count": 17,
   "id": "4aa9ebb0",
   "metadata": {},
   "outputs": [
    {
     "name": "stdout",
     "output_type": "stream",
     "text": [
      "   s.i.no.      name  occupation  salary\n",
      "0      1.0  subbaiah  supervisor  50,000\n",
      "1      2.0   ramaiah    employee   20000\n",
      "2      3.0   ishitha     manager   60000\n",
      "3      4.0    roshan     manager   50000\n",
      "4      5.0    urmila    employee   25000\n"
     ]
    }
   ],
   "source": [
    "# Write a Pandas program to read specific columns from a given excel file. \n",
    "import pandas as pd\n",
    "a=pd.read_csv(\"C:/Users/keert/OneDrive/Documents//salary.csv\")\n",
    "print(a.head(5))"
   ]
  },
  {
   "cell_type": "code",
   "execution_count": 19,
   "id": "76db8d38",
   "metadata": {},
   "outputs": [
    {
     "name": "stdout",
     "output_type": "stream",
     "text": [
      "    s.i.no.     name  occupation  salary\n",
      "6       7.0   reshma     manager   55000\n",
      "7       8.0  koushik    employee   30000\n",
      "8       9.0  chandra    employee   27000\n",
      "9      10.0    varun  supervisor   55000\n",
      "10      NaN      NaN     Average  37,950\n"
     ]
    }
   ],
   "source": [
    "# Write a Pandas program to read specific columns from a given excel file. \n",
    "import pandas as pd\n",
    "a=pd.read_csv(\"C:/Users/keert/OneDrive/Documents//salary.csv\")\n",
    "print(a.tail(5))"
   ]
  }
 ],
 "metadata": {
  "kernelspec": {
   "display_name": "Python 3 (ipykernel)",
   "language": "python",
   "name": "python3"
  },
  "language_info": {
   "codemirror_mode": {
    "name": "ipython",
    "version": 3
   },
   "file_extension": ".py",
   "mimetype": "text/x-python",
   "name": "python",
   "nbconvert_exporter": "python",
   "pygments_lexer": "ipython3",
   "version": "3.9.12"
  }
 },
 "nbformat": 4,
 "nbformat_minor": 5
}
