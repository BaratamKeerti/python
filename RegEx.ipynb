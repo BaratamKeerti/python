{
  "nbformat": 4,
  "nbformat_minor": 0,
  "metadata": {
    "colab": {
      "name": "RegEx.ipynb",
      "provenance": [],
      "collapsed_sections": [],
      "authorship_tag": "ABX9TyNybDrlE0y6+VsecbHQ96vX",
      "include_colab_link": true
    },
    "kernelspec": {
      "name": "python3",
      "display_name": "Python 3"
    },
    "language_info": {
      "name": "python"
    }
  },
  "cells": [
    {
      "cell_type": "markdown",
      "metadata": {
        "id": "view-in-github",
        "colab_type": "text"
      },
      "source": [
        "<a href=\"https://colab.research.google.com/github/BaratamKeerti/python/blob/module-5/RegEx.ipynb\" target=\"_parent\"><img src=\"https://colab.research.google.com/assets/colab-badge.svg\" alt=\"Open In Colab\"/></a>"
      ]
    },
    {
      "cell_type": "code",
      "execution_count": null,
      "metadata": {
        "colab": {
          "base_uri": "https://localhost:8080/"
        },
        "id": "tvzO9XZwJjTN",
        "outputId": "5dfa1957-e922-40ea-ad01-5356a26f6421"
      },
      "outputs": [
        {
          "output_type": "stream",
          "name": "stdout",
          "text": [
            "<re.Match object; span=(0, 27), match='Hello! This is python class'>\n",
            "x in code\n"
          ]
        }
      ],
      "source": [
        "#search\n",
        "import re\n",
        "txt=\"Hello! This is python class\"\n",
        "x=re.search(\"^Hello.*class$\",txt)\n",
        "print(x)\n",
        "if x:\n",
        "  print('x in code')\n",
        "else: print(\"x is not in code\")"
      ]
    },
    {
      "cell_type": "code",
      "source": [
        "#findall\n",
        "txt=\"The universe is everything. It includes all of space, and all the matter and energy that space contains. It even includes time itself and, of course, it includes you. Earth and the Moon are part of the universe, as are the other planets and their many dozens of moons\"\n",
        "x=re.findall('it',txt)\n",
        "print(x)"
      ],
      "metadata": {
        "id": "-vwuNKnrKMZ9",
        "colab": {
          "base_uri": "https://localhost:8080/"
        },
        "outputId": "d2d3fd2c-c9ce-4010-fb24-f3dd37731c95"
      },
      "execution_count": null,
      "outputs": [
        {
          "output_type": "stream",
          "name": "stdout",
          "text": [
            "['it', 'it']\n"
          ]
        }
      ]
    },
    {
      "cell_type": "code",
      "source": [
        "#search\n",
        "txt=\"The universe is everything.\\nIt includes all of space, and all the matter and energy that space contains.\\nIt even includes time itself and, of course, it includes you.\\nEarth and the Moon are part of the universe, as are the other planets and their many dozens of moons\"\n",
        "print(txt)\n",
        "x=re.search(\"\\s\",txt)\n",
        "print(x.start())"
      ],
      "metadata": {
        "colab": {
          "base_uri": "https://localhost:8080/"
        },
        "id": "Vs4sTrCqOX90",
        "outputId": "9096b1a7-b55a-4c2f-e21a-8c3f518aff89"
      },
      "execution_count": null,
      "outputs": [
        {
          "output_type": "stream",
          "name": "stdout",
          "text": [
            "The universe is everything.\n",
            "It includes all of space, and all the matter and energy that space contains.\n",
            "It even includes time itself and, of course, it includes you.\n",
            "Earth and the Moon are part of the universe, as are the other planets and their many dozens of moons\n",
            "3\n"
          ]
        }
      ]
    },
    {
      "cell_type": "code",
      "source": [
        "#split\n",
        "txt=\"The universe is everything. \\nIt includes all of space, and all the matter and energy that space contains.\\nIt even includes time itself and, of course, it includes you.\\nEarth and the Moon are part of the universe, as are the other planets and their many dozens of moons\"\n",
        "print(txt)\n",
        "x=re.split(\" \",txt)\n",
        "print(x)"
      ],
      "metadata": {
        "colab": {
          "base_uri": "https://localhost:8080/"
        },
        "id": "_Ah7G0wVPKb0",
        "outputId": "bf33a199-9384-43cb-b6e3-14af23308f22"
      },
      "execution_count": null,
      "outputs": [
        {
          "output_type": "stream",
          "name": "stdout",
          "text": [
            "The universe is everything. \n",
            "It includes all of space, and all the matter and energy that space contains.\n",
            "It even includes time itself and, of course, it includes you.\n",
            "Earth and the Moon are part of the universe, as are the other planets and their many dozens of moons\n",
            "['The', 'universe', 'is', 'everything.', '\\nIt', 'includes', 'all', 'of', 'space,', 'and', 'all', 'the', 'matter', 'and', 'energy', 'that', 'space', 'contains.\\nIt', 'even', 'includes', 'time', 'itself', 'and,', 'of', 'course,', 'it', 'includes', 'you.\\nEarth', 'and', 'the', 'Moon', 'are', 'part', 'of', 'the', 'universe,', 'as', 'are', 'the', 'other', 'planets', 'and', 'their', 'many', 'dozens', 'of', 'moons']\n"
          ]
        }
      ]
    },
    {
      "cell_type": "code",
      "source": [
        "#split upto the defined position\n",
        "txt=\"The universe is everything. \\nIt includes all of space, and all the matter and energy that space contains.\\nIt even includes time itself and, of course, it includes you.\\nEarth and the Moon are part of the universe, as are the other planets and their many dozens of moons\"\n",
        "print(txt)\n",
        "x=re.split(\" \",txt,16)\n",
        "print(x)"
      ],
      "metadata": {
        "colab": {
          "base_uri": "https://localhost:8080/"
        },
        "id": "Beodz5TpQyVz",
        "outputId": "4d3313a7-ee5e-4531-819b-6a331e9d5454"
      },
      "execution_count": null,
      "outputs": [
        {
          "output_type": "stream",
          "name": "stdout",
          "text": [
            "The universe is everything. \n",
            "It includes all of space, and all the matter and energy that space contains.\n",
            "It even includes time itself and, of course, it includes you.\n",
            "Earth and the Moon are part of the universe, as are the other planets and their many dozens of moons\n",
            "['The', 'universe', 'is', 'everything.', '\\nIt', 'includes', 'all', 'of', 'space,', 'and', 'all', 'the', 'matter', 'and', 'energy', 'that', 'space contains.\\nIt even includes time itself and, of course, it includes you.\\nEarth and the Moon are part of the universe, as are the other planets and their many dozens of moons']\n"
          ]
        }
      ]
    },
    {
      "cell_type": "code",
      "source": [
        "#sub\n",
        "txt=\"The universe is everything. \\nIt includes all of space, and all the matter and energy that space contains.\\nIt even includes time itself and, of course, it includes you.\\nEarth and the Moon are part of the universe, as are the other planets and their many dozens of moons\"\n",
        "print(txt)\n",
        "x=re.sub(\" \",'*',txt)\n",
        "y=re.sub(\"\\s\",'-',txt)\n",
        "print(x)\n",
        "print(y)"
      ],
      "metadata": {
        "colab": {
          "base_uri": "https://localhost:8080/"
        },
        "id": "EBwshNLoRDtC",
        "outputId": "15a7471f-a32f-4860-da21-e306b25e8e2f"
      },
      "execution_count": null,
      "outputs": [
        {
          "output_type": "stream",
          "name": "stdout",
          "text": [
            "The universe is everything. \n",
            "It includes all of space, and all the matter and energy that space contains.\n",
            "It even includes time itself and, of course, it includes you.\n",
            "Earth and the Moon are part of the universe, as are the other planets and their many dozens of moons\n",
            "The*universe*is*everything.*\n",
            "It*includes*all*of*space,*and*all*the*matter*and*energy*that*space*contains.\n",
            "It*even*includes*time*itself*and,*of*course,*it*includes*you.\n",
            "Earth*and*the*Moon*are*part*of*the*universe,*as*are*the*other*planets*and*their*many*dozens*of*moons\n",
            "The-universe-is-everything.--It-includes-all-of-space,-and-all-the-matter-and-energy-that-space-contains.-It-even-includes-time-itself-and,-of-course,-it-includes-you.-Earth-and-the-Moon-are-part-of-the-universe,-as-are-the-other-planets-and-their-many-dozens-of-moons\n"
          ]
        }
      ]
    },
    {
      "cell_type": "markdown",
      "source": [
        "# ***META CHARACTERS***"
      ],
      "metadata": {
        "id": "46X8bPOb272E"
      }
    },
    {
      "cell_type": "code",
      "source": [
        "#[]\n",
        "import re\n",
        "txt=\"The universe is everything. It includes all of space, and all the matter and energy that space contains.\"\n",
        "print(txt)\n",
        "x=re.findall(\"[i-y]\",txt)\n",
        "print(x)"
      ],
      "metadata": {
        "id": "7g5ZzmPtSA9t",
        "colab": {
          "base_uri": "https://localhost:8080/"
        },
        "outputId": "e38dd53f-2bc9-40ea-878b-3cbf7f5d8893"
      },
      "execution_count": null,
      "outputs": [
        {
          "output_type": "stream",
          "name": "stdout",
          "text": [
            "The universe is everything. It includes all of space, and all the matter and energy that space contains.\n",
            "['u', 'n', 'i', 'v', 'r', 's', 'i', 's', 'v', 'r', 'y', 't', 'i', 'n', 't', 'i', 'n', 'l', 'u', 's', 'l', 'l', 'o', 's', 'p', 'n', 'l', 'l', 't', 'm', 't', 't', 'r', 'n', 'n', 'r', 'y', 't', 't', 's', 'p', 'o', 'n', 't', 'i', 'n', 's']\n"
          ]
        }
      ]
    },
    {
      "cell_type": "code",
      "source": [
        "# \\\n",
        "import re\n",
        "txt=\"I have 56 dollars.\"\n",
        "print(txt)\n",
        "x=re.findall(\"\\d\",txt)\n",
        "y=re.findall(\"\\s\",txt)\n",
        "print(x)\n",
        "print(y)"
      ],
      "metadata": {
        "colab": {
          "base_uri": "https://localhost:8080/"
        },
        "id": "PoXmabNy2n_U",
        "outputId": "9e0203fd-04a4-4a7b-a98d-94e394382a9f"
      },
      "execution_count": null,
      "outputs": [
        {
          "output_type": "stream",
          "name": "stdout",
          "text": [
            "I have 56 dollars.\n",
            "['5', '6']\n",
            "[' ', ' ', ' ']\n"
          ]
        }
      ]
    },
    {
      "cell_type": "code",
      "source": [
        "# .\n",
        "import re\n",
        "txt=\"The universe is everything. It includes all of space, and all the matter and energy that space contains.\"\n",
        "print(txt)\n",
        "x=re.findall(\"i..e\",txt)\n",
        "y=re.findall(\"a.d\",txt)\n",
        "z=re.findall(\"un.....e\",txt)\n",
        "print(x,y,z)"
      ],
      "metadata": {
        "colab": {
          "base_uri": "https://localhost:8080/"
        },
        "id": "emzpEmry3n0N",
        "outputId": "7bbf86e5-7b32-426b-aba8-dcfacb37f6f0"
      },
      "execution_count": null,
      "outputs": [
        {
          "output_type": "stream",
          "name": "stdout",
          "text": [
            "The universe is everything. It includes all of space, and all the matter and energy that space contains.\n",
            "['is e'] ['and', 'and'] ['universe']\n"
          ]
        }
      ]
    },
    {
      "cell_type": "code",
      "source": [
        "# starts ^\n",
        "import re\n",
        "txt=\"The universe is everything. It includes all of space, and all the matter and energy that space contains.\"\n",
        "print(txt)\n",
        "def in_txt(r):\n",
        "  if r:\n",
        "    print(\"It is the starting of the text\")\n",
        "  else:\n",
        "    print(\"It is not the starting of the text\")\n",
        "x=in_txt(re.findall(\"^The\",txt))\n",
        "y=in_txt(re.findall(\"^includes\",txt))"
      ],
      "metadata": {
        "colab": {
          "base_uri": "https://localhost:8080/"
        },
        "id": "u081ClR24edr",
        "outputId": "ac4cac70-a5eb-47e5-9a6f-660e25c19320"
      },
      "execution_count": null,
      "outputs": [
        {
          "output_type": "stream",
          "name": "stdout",
          "text": [
            "The universe is everything. It includes all of space, and all the matter and energy that space contains.\n",
            "It is the starting of the text\n",
            "It is not the starting of the text\n"
          ]
        }
      ]
    },
    {
      "cell_type": "code",
      "source": [
        "# ends $\n",
        "import re\n",
        "txt=\"The universe is everything. It includes all of space, and all the matter and energy that space contains.\"\n",
        "print(txt)\n",
        "def in_txt(r):\n",
        "  if r:\n",
        "    print(\"It is the ending of the text\")\n",
        "  else:\n",
        "    print(\"It is not the ending of the text\")\n",
        "x=in_txt(re.findall(\"contains.$\",txt))\n",
        "y=in_txt(re.findall(\"^includes\",txt))"
      ],
      "metadata": {
        "colab": {
          "base_uri": "https://localhost:8080/"
        },
        "id": "VmgBV60r6TRD",
        "outputId": "09df81ef-9833-4c28-d589-4d2cf0d47e2d"
      },
      "execution_count": null,
      "outputs": [
        {
          "output_type": "stream",
          "name": "stdout",
          "text": [
            "The universe is everything. It includes all of space, and all the matter and energy that space contains.\n",
            "It is the ending of the text\n",
            "It is not the ending of the text\n"
          ]
        }
      ]
    },
    {
      "cell_type": "code",
      "source": [
        "# (zero or more occurences) *\n",
        "import re\n",
        "txt=\"The universe is everything. It includes all of space, and all the matter and energy that space contains.\"\n",
        "print(txt)\n",
        "x=re.findall(\"u.*se\",txt)\n",
        "print(x)"
      ],
      "metadata": {
        "id": "tiCCBsEU7ZBi",
        "colab": {
          "base_uri": "https://localhost:8080/"
        },
        "outputId": "b3d0bb3f-e015-4460-a739-adfe6715c5a9"
      },
      "execution_count": 2,
      "outputs": [
        {
          "output_type": "stream",
          "name": "stdout",
          "text": [
            "The universe is everything. It includes all of space, and all the matter and energy that space contains.\n",
            "['universe']\n"
          ]
        }
      ]
    },
    {
      "cell_type": "code",
      "source": [
        "# (one or more occurences) +\n",
        "import re\n",
        "txt=\"The universe is everything. It includes all of space, and all the matter and energy that space contains.\"\n",
        "print(txt)\n",
        "x=re.findall(\"m.+ter\",txt)\n",
        "print(x)"
      ],
      "metadata": {
        "colab": {
          "base_uri": "https://localhost:8080/"
        },
        "id": "QI00KcAcq5nN",
        "outputId": "34250ad9-3527-4b45-cafb-535f21acc62c"
      },
      "execution_count": 5,
      "outputs": [
        {
          "output_type": "stream",
          "name": "stdout",
          "text": [
            "The universe is everything. It includes all of space, and all the matter and energy that space contains.\n",
            "['matter']\n"
          ]
        }
      ]
    },
    {
      "cell_type": "code",
      "source": [
        "# (zero or one occurences) ?\n",
        "import re\n",
        "txt=\"The universe is everything. It includes all of space, and all the matter and energy that space contains.\"\n",
        "print(txt)\n",
        "x=re.findall(\"th.?t\",txt)\n",
        "print(x)"
      ],
      "metadata": {
        "colab": {
          "base_uri": "https://localhost:8080/"
        },
        "id": "dr3tlJJHrsD1",
        "outputId": "ece21dd0-b2ba-44ea-8de3-b6b89d4cb837"
      },
      "execution_count": 11,
      "outputs": [
        {
          "output_type": "stream",
          "name": "stdout",
          "text": [
            "The universe is everything. It includes all of space, and all the matter and energy that space contains.\n",
            "['that']\n"
          ]
        }
      ]
    },
    {
      "cell_type": "code",
      "source": [
        "# (exactly the specified number of occurences) {}\n",
        "import re\n",
        "txt=\"The universe is everything. It includes all of space, and all the matter and energy that space contains.\"\n",
        "print(txt)\n",
        "x=re.findall(\"ev.{6}ng\",txt)\n",
        "print(x)"
      ],
      "metadata": {
        "colab": {
          "base_uri": "https://localhost:8080/"
        },
        "id": "K0j76QjKsH9m",
        "outputId": "ca6010fe-103f-43c7-c036-faa373f5f9f9"
      },
      "execution_count": 13,
      "outputs": [
        {
          "output_type": "stream",
          "name": "stdout",
          "text": [
            "The universe is everything. It includes all of space, and all the matter and energy that space contains.\n",
            "['everything']\n"
          ]
        }
      ]
    },
    {
      "cell_type": "code",
      "source": [
        "# (Either / or) |\n",
        "import re\n",
        "txt=\"The universe is everything. It includes all of space, and all the matter and energy that space contains.\"\n",
        "print(txt)\n",
        "x=re.findall(\"universe|galaxy\",txt)\n",
        "if x:\n",
        "  print(x)\n",
        "  print(\"We found the desired output\")\n",
        "else:\n",
        "  print(\"We didn't find the desired output\")"
      ],
      "metadata": {
        "colab": {
          "base_uri": "https://localhost:8080/"
        },
        "id": "YdzXZorRuAvn",
        "outputId": "bba19d51-d60f-4e72-9b3d-84ae99560d2f"
      },
      "execution_count": 17,
      "outputs": [
        {
          "output_type": "stream",
          "name": "stdout",
          "text": [
            "The universe is everything. It includes all of space, and all the matter and energy that space contains.\n",
            "['universe']\n",
            "We found the desired output\n"
          ]
        }
      ]
    },
    {
      "cell_type": "code",
      "source": [
        "# \\A\n",
        "import re\n",
        "txt=\"The universe is everything. It includes all of space, and all the matter and energy that space contains.\"\n",
        "print(txt)\n",
        "x=re.findall(\"\\AThe\",txt)\n",
        "if x:\n",
        "  print(x,\"is the first word in the sentence\")\n",
        "else:\n",
        "  print(x,\"is not the first word in the sentence\")"
      ],
      "metadata": {
        "colab": {
          "base_uri": "https://localhost:8080/"
        },
        "id": "6jgrnNL9xHbA",
        "outputId": "2944afd7-17b3-4cf6-b9f5-915825e3464f"
      },
      "execution_count": 19,
      "outputs": [
        {
          "output_type": "stream",
          "name": "stdout",
          "text": [
            "The universe is everything. It includes all of space, and all the matter and energy that space contains.\n",
            "['The'] is the first word in the sentence\n"
          ]
        }
      ]
    },
    {
      "cell_type": "code",
      "source": [
        ""
      ],
      "metadata": {
        "id": "fjhsf8i286Xd"
      },
      "execution_count": null,
      "outputs": []
    }
  ]
}