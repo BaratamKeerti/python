{
  "nbformat": 4,
  "nbformat_minor": 0,
  "metadata": {
    "colab": {
      "name": "keerti(vu21csen0100313)controlstatements.ipynb",
      "provenance": [],
      "collapsed_sections": [],
      "authorship_tag": "ABX9TyOK9spLOhQZUFW4vongo8ac",
      "include_colab_link": true
    },
    "kernelspec": {
      "name": "python3",
      "display_name": "Python 3"
    },
    "language_info": {
      "name": "python"
    }
  },
  "cells": [
    {
      "cell_type": "markdown",
      "metadata": {
        "id": "view-in-github",
        "colab_type": "text"
      },
      "source": [
        "<a href=\"https://colab.research.google.com/github/BaratamKeerti/python/blob/module-1/keerti(vu21csen0100313)controlstatements_and_operatins.ipynb\" target=\"_parent\"><img src=\"https://colab.research.google.com/assets/colab-badge.svg\" alt=\"Open In Colab\"/></a>"
      ]
    },
    {
      "cell_type": "markdown",
      "source": [
        "# ***arithmetical operations using static and dynamic method***"
      ],
      "metadata": {
        "id": "WViq5PoUBeUN"
      }
    },
    {
      "cell_type": "code",
      "source": [
        "a=10\n",
        "b=20\n",
        "c=30\n",
        "d=(a+b+c)/3\n",
        "print(d)\n",
        "print(type(d))\n",
        "print(type(a))"
      ],
      "metadata": {
        "colab": {
          "base_uri": "https://localhost:8080/"
        },
        "id": "8VqnencvAdlm",
        "outputId": "c613759c-ca5e-481e-c601-6146b30803f2"
      },
      "execution_count": 1,
      "outputs": [
        {
          "output_type": "stream",
          "name": "stdout",
          "text": [
            "20.0\n",
            "<class 'float'>\n",
            "<class 'int'>\n"
          ]
        }
      ]
    },
    {
      "cell_type": "code",
      "source": [
        "a=2\n",
        "b=3\n",
        "c=4\n",
        "mul=a*b*c\n",
        "print(mul)\n",
        "print(type(mul))"
      ],
      "metadata": {
        "colab": {
          "base_uri": "https://localhost:8080/"
        },
        "id": "SSlOPWa7Ak93",
        "outputId": "2f75614c-884e-4140-8f0a-8f3bb9ac6a43"
      },
      "execution_count": 2,
      "outputs": [
        {
          "output_type": "stream",
          "name": "stdout",
          "text": [
            "24\n",
            "<class 'int'>\n"
          ]
        }
      ]
    },
    {
      "cell_type": "code",
      "source": [
        "a=int(input(\"enter a\"))\n",
        "b=int(input(\"enter b\"))\n",
        "c=a+b\n",
        "print(c)\n",
        "print(type(c))"
      ],
      "metadata": {
        "colab": {
          "base_uri": "https://localhost:8080/"
        },
        "id": "rxAZtDc-AlDL",
        "outputId": "7f3b4f99-f67d-4c2c-bf1a-f7e19af85115"
      },
      "execution_count": 3,
      "outputs": [
        {
          "output_type": "stream",
          "name": "stdout",
          "text": [
            "enter a4\n",
            "enter b5\n",
            "9\n",
            "<class 'int'>\n"
          ]
        }
      ]
    },
    {
      "cell_type": "code",
      "source": [
        "a=float(input(\"enter the value of a:\"))\n",
        "b=float(input(\"enter the value of b:\"))\n",
        "c=a*b\n",
        "print(c)\n",
        "print(type(c))"
      ],
      "metadata": {
        "colab": {
          "base_uri": "https://localhost:8080/"
        },
        "id": "w0q-TF5jAlIF",
        "outputId": "4cfd0b18-3b83-437f-d1bb-4209e6735b39"
      },
      "execution_count": 4,
      "outputs": [
        {
          "output_type": "stream",
          "name": "stdout",
          "text": [
            "enter the value of a:7\n",
            "enter the value of b:9\n",
            "63.0\n",
            "<class 'float'>\n"
          ]
        }
      ]
    },
    {
      "cell_type": "code",
      "source": [
        "a=10\n",
        "print(a)\n",
        "print(type(a))\n",
        "b=float(a)\n",
        "print(b)\n",
        "print(type(b))"
      ],
      "metadata": {
        "colab": {
          "base_uri": "https://localhost:8080/"
        },
        "id": "dG3vk_0_AlNF",
        "outputId": "c9b1e0e1-70cf-4d0c-85a2-62ebb23517d0"
      },
      "execution_count": 5,
      "outputs": [
        {
          "output_type": "stream",
          "name": "stdout",
          "text": [
            "10\n",
            "<class 'int'>\n",
            "10.0\n",
            "<class 'float'>\n"
          ]
        }
      ]
    },
    {
      "cell_type": "code",
      "source": [
        "a=10.663\n",
        "print(a)\n",
        "print(type(a))\n",
        "b=int(a)\n",
        "print(b)\n",
        "print(type(b))"
      ],
      "metadata": {
        "colab": {
          "base_uri": "https://localhost:8080/"
        },
        "id": "oReFkVoGAlRl",
        "outputId": "a46e7a0f-f9e5-4245-e4fe-7430fd39bb1d"
      },
      "execution_count": 6,
      "outputs": [
        {
          "output_type": "stream",
          "name": "stdout",
          "text": [
            "10.663\n",
            "<class 'float'>\n",
            "10\n",
            "<class 'int'>\n"
          ]
        }
      ]
    },
    {
      "cell_type": "code",
      "source": [
        "a=146\n",
        "print(a)\n",
        "print(type(a))\n",
        "b=str(a)\n",
        "print(b)\n",
        "print(type(b))"
      ],
      "metadata": {
        "colab": {
          "base_uri": "https://localhost:8080/"
        },
        "id": "OFhy57lYAlVZ",
        "outputId": "6f19238a-5af4-4ba3-d550-313d7b6d02e3"
      },
      "execution_count": 7,
      "outputs": [
        {
          "output_type": "stream",
          "name": "stdout",
          "text": [
            "146\n",
            "<class 'int'>\n",
            "146\n",
            "<class 'str'>\n"
          ]
        }
      ]
    },
    {
      "cell_type": "code",
      "source": [
        "a=15.32\n",
        "print(a)\n",
        "print(type(a))\n",
        "b=str(a)\n",
        "print(b)\n",
        "print(type(b))"
      ],
      "metadata": {
        "colab": {
          "base_uri": "https://localhost:8080/"
        },
        "id": "UzR5nV83AlY3",
        "outputId": "b17101b3-23fa-42f3-934a-d401e7539f5d"
      },
      "execution_count": 9,
      "outputs": [
        {
          "output_type": "stream",
          "name": "stdout",
          "text": [
            "15.32\n",
            "<class 'float'>\n",
            "15.32\n",
            "<class 'str'>\n"
          ]
        }
      ]
    },
    {
      "cell_type": "markdown",
      "source": [
        "# ***conversions from one datatype to another***"
      ],
      "metadata": {
        "id": "P3HofEt6Bv7g"
      }
    },
    {
      "cell_type": "code",
      "source": [
        "a=10\n",
        "b=bool(a)\n",
        "print(a)\n",
        "print(b)\n",
        "print(type(a))\n",
        "print(type(b))"
      ],
      "metadata": {
        "colab": {
          "base_uri": "https://localhost:8080/"
        },
        "id": "ku9yx1ZvA_V_",
        "outputId": "f811fc93-363e-4736-eb30-7b949d713c0f"
      },
      "execution_count": 10,
      "outputs": [
        {
          "output_type": "stream",
          "name": "stdout",
          "text": [
            "10\n",
            "True\n",
            "<class 'int'>\n",
            "<class 'bool'>\n"
          ]
        }
      ]
    },
    {
      "cell_type": "code",
      "source": [
        "a=10.678\n",
        "b=bool(a)\n",
        "print(a)\n",
        "print(b)\n",
        "print(type(a))\n",
        "print(type(b))"
      ],
      "metadata": {
        "colab": {
          "base_uri": "https://localhost:8080/"
        },
        "id": "tYanv2dxA_dv",
        "outputId": "97d41129-21c4-4306-bb10-d3fb981b7d35"
      },
      "execution_count": 11,
      "outputs": [
        {
          "output_type": "stream",
          "name": "stdout",
          "text": [
            "10.678\n",
            "True\n",
            "<class 'float'>\n",
            "<class 'bool'>\n"
          ]
        }
      ]
    },
    {
      "cell_type": "code",
      "source": [
        "a=12\n",
        "b=45\n",
        "c=(a>b)\n",
        "print(c)\n",
        "print(type(c))"
      ],
      "metadata": {
        "colab": {
          "base_uri": "https://localhost:8080/"
        },
        "id": "4HByOfsGA_kU",
        "outputId": "e7a1c428-b1d4-4fb7-828c-fd22a2035a0e"
      },
      "execution_count": 12,
      "outputs": [
        {
          "output_type": "stream",
          "name": "stdout",
          "text": [
            "False\n",
            "<class 'bool'>\n"
          ]
        }
      ]
    },
    {
      "cell_type": "code",
      "source": [
        "a=True\n",
        "print(a)\n",
        "print(type(a))\n",
        "b=int(a)\n",
        "print(b)\n",
        "print(type(b))"
      ],
      "metadata": {
        "colab": {
          "base_uri": "https://localhost:8080/"
        },
        "id": "LV1iGT1uBJCg",
        "outputId": "ffe6a47d-84ce-4b4e-ed06-59d0223e31e6"
      },
      "execution_count": 13,
      "outputs": [
        {
          "output_type": "stream",
          "name": "stdout",
          "text": [
            "True\n",
            "<class 'bool'>\n",
            "1\n",
            "<class 'int'>\n"
          ]
        }
      ]
    },
    {
      "cell_type": "code",
      "source": [
        "a=False\n",
        "print(a)\n",
        "print(type(a))\n",
        "b=float(a)\n",
        "print(b)\n",
        "print(type(b))"
      ],
      "metadata": {
        "colab": {
          "base_uri": "https://localhost:8080/"
        },
        "id": "vi29Blf9BJIO",
        "outputId": "2bff749e-340a-4764-b922-d2e018e492cf"
      },
      "execution_count": 14,
      "outputs": [
        {
          "output_type": "stream",
          "name": "stdout",
          "text": [
            "False\n",
            "<class 'bool'>\n",
            "0.0\n",
            "<class 'float'>\n"
          ]
        }
      ]
    },
    {
      "cell_type": "code",
      "source": [
        "a='india'\n",
        "print(a)\n",
        "print(type(a))\n",
        "b=bool(a)\n",
        "print(b)\n",
        "print(type(b))"
      ],
      "metadata": {
        "colab": {
          "base_uri": "https://localhost:8080/"
        },
        "id": "0A1MZ188BJMP",
        "outputId": "645b63a8-6c1a-4cd8-8e17-e45374924c68"
      },
      "execution_count": 15,
      "outputs": [
        {
          "output_type": "stream",
          "name": "stdout",
          "text": [
            "india\n",
            "<class 'str'>\n",
            "True\n",
            "<class 'bool'>\n"
          ]
        }
      ]
    },
    {
      "cell_type": "code",
      "source": [
        "a=bool(10)\n",
        "print(a)\n",
        "print(type(a))\n",
        "b=int(a)\n",
        "print(b)\n",
        "print(type(b))"
      ],
      "metadata": {
        "colab": {
          "base_uri": "https://localhost:8080/"
        },
        "id": "T_gT48zIBTBO",
        "outputId": "827d60a0-5a66-49be-8924-9e8707521fb1"
      },
      "execution_count": 16,
      "outputs": [
        {
          "output_type": "stream",
          "name": "stdout",
          "text": [
            "True\n",
            "<class 'bool'>\n",
            "1\n",
            "<class 'int'>\n"
          ]
        }
      ]
    },
    {
      "cell_type": "code",
      "source": [
        "a=5+3j\n",
        "print(a)\n",
        "print(type(a))\n",
        "b=bool(a)\n",
        "print(b)\n",
        "print(type(b))"
      ],
      "metadata": {
        "colab": {
          "base_uri": "https://localhost:8080/"
        },
        "id": "aRUG8r9xBTHS",
        "outputId": "eb4ff0f7-27b3-4b3f-cd3c-08aace6a5ea2"
      },
      "execution_count": 17,
      "outputs": [
        {
          "output_type": "stream",
          "name": "stdout",
          "text": [
            "(5+3j)\n",
            "<class 'complex'>\n",
            "True\n",
            "<class 'bool'>\n"
          ]
        }
      ]
    },
    {
      "cell_type": "markdown",
      "source": [
        "# ***control statements***"
      ],
      "metadata": {
        "id": "pIfInmQWB6zG"
      }
    },
    {
      "cell_type": "code",
      "execution_count": null,
      "metadata": {
        "colab": {
          "base_uri": "https://localhost:8080/"
        },
        "id": "8zhLlkakpNIL",
        "outputId": "6639de7c-a9db-47d7-b064-7072dbfe4857"
      },
      "outputs": [
        {
          "output_type": "stream",
          "name": "stdout",
          "text": [
            "you are eligible for voting\n"
          ]
        }
      ],
      "source": [
        "a=20\n",
        "if a>=18:\n",
        "  print(\"you are eligible for voting\")\n",
        "else:\n",
        " print(\"you are not eligible for voting\")"
      ]
    },
    {
      "cell_type": "code",
      "source": [
        "a=int(input(\"enter your age:\"))\n",
        "if a>=18:\n",
        "  print(\"you are eligible for voting\")\n",
        "else:\n",
        "  print(\"you are not eligible for voting\")"
      ],
      "metadata": {
        "colab": {
          "base_uri": "https://localhost:8080/"
        },
        "id": "ca1v78qEqG5P",
        "outputId": "b28c2574-c2a4-4424-e259-ae47688cba58"
      },
      "execution_count": null,
      "outputs": [
        {
          "output_type": "stream",
          "name": "stdout",
          "text": [
            "enter your age:56\n",
            "you are eligible for voting\n"
          ]
        }
      ]
    },
    {
      "cell_type": "code",
      "source": [
        "a=int(input(\"enter the value of a:\"))\n",
        "b=int(input(\"enter the value of b:\"))\n",
        "c=int(input(\"enter the value of c:\"))\n",
        "if a>b and a>c:\n",
        "  print(\"a is greater\")\n",
        "elif b>c and b>a:\n",
        "  print(\"b is greater\")\n",
        "else:\n",
        "  print(\"c is greater\")  \n"
      ],
      "metadata": {
        "colab": {
          "base_uri": "https://localhost:8080/"
        },
        "id": "GQa3hTEksLzv",
        "outputId": "f0217750-9791-4ce5-8a74-375e9cb66cd4"
      },
      "execution_count": null,
      "outputs": [
        {
          "output_type": "stream",
          "name": "stdout",
          "text": [
            "enter the value of a:4\n",
            "enter the value of b:8\n",
            "enter the value of c:56\n",
            "c is greater\n"
          ]
        }
      ]
    },
    {
      "cell_type": "code",
      "source": [
        "a=int(input(\"enter the value of a:\"))\n",
        "b=int(input(\"enter the value of b:\"))\n",
        "c=int(input(\"enter the value of c:\"))\n",
        "d=int(input(\"enter the value of d:\"))\n",
        "e=int(input(\"enter the value of e:\"))\n",
        "if a>b and a>c and a>d and a>e:\n",
        "  print(\"a is greater\")\n",
        "elif b>a and b>c and b>d and b>e:\n",
        "  print(\"b is greater\")\n",
        "elif c>b and c>a and c>d and c>e:\n",
        "  print(\"c is greater\")\n",
        "elif d>b and d>c and d>a and d>e:\n",
        "  print(\"d is greater\")\n",
        "else:\n",
        "  print(\"e is greater\")"
      ],
      "metadata": {
        "colab": {
          "base_uri": "https://localhost:8080/"
        },
        "id": "oZbaqFnmuf_A",
        "outputId": "058d56b2-5f1a-4068-9d40-dc604632b9c8"
      },
      "execution_count": null,
      "outputs": [
        {
          "output_type": "stream",
          "name": "stdout",
          "text": [
            "enter the value of a:10\n",
            "enter the value of b:3\n",
            "enter the value of c:6\n",
            "enter the value of d:4\n",
            "enter the value of e:43\n",
            "e is greater\n"
          ]
        }
      ]
    },
    {
      "cell_type": "code",
      "source": [
        "i=1\n",
        "for i in range(1,40,2): \n",
        "  print(i)"
      ],
      "metadata": {
        "colab": {
          "base_uri": "https://localhost:8080/"
        },
        "id": "Vb-xV5I3vno_",
        "outputId": "af5b8c18-90a0-4c6e-8a0e-385a4ef4f1f2"
      },
      "execution_count": null,
      "outputs": [
        {
          "output_type": "stream",
          "name": "stdout",
          "text": [
            "1\n",
            "3\n",
            "5\n",
            "7\n",
            "9\n",
            "11\n",
            "13\n",
            "15\n",
            "17\n",
            "19\n",
            "21\n",
            "23\n",
            "25\n",
            "27\n",
            "29\n",
            "31\n",
            "33\n",
            "35\n",
            "37\n",
            "39\n"
          ]
        }
      ]
    },
    {
      "cell_type": "code",
      "source": [
        ""
      ],
      "metadata": {
        "id": "rTTogY1TyMJY"
      },
      "execution_count": null,
      "outputs": []
    }
  ]
}