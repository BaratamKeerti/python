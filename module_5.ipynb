{
  "nbformat": 4,
  "nbformat_minor": 0,
  "metadata": {
    "colab": {
      "name": "module-5.ipynb",
      "provenance": [],
      "authorship_tag": "ABX9TyOeZbLHUnQA2mxV5LEtVdvx",
      "include_colab_link": true
    },
    "kernelspec": {
      "name": "python3",
      "display_name": "Python 3"
    },
    "language_info": {
      "name": "python"
    }
  },
  "cells": [
    {
      "cell_type": "markdown",
      "metadata": {
        "id": "view-in-github",
        "colab_type": "text"
      },
      "source": [
        "<a href=\"https://colab.research.google.com/github/BaratamKeerti/python/blob/module-5/module_5.ipynb\" target=\"_parent\"><img src=\"https://colab.research.google.com/assets/colab-badge.svg\" alt=\"Open In Colab\"/></a>"
      ]
    },
    {
      "cell_type": "markdown",
      "source": [
        "# **Module-05-(vu21csen0100313-KeertiBaratam)**"
      ],
      "metadata": {
        "id": "oF6hGKacTKgS"
      }
    },
    {
      "cell_type": "code",
      "execution_count": 3,
      "metadata": {
        "colab": {
          "base_uri": "https://localhost:8080/"
        },
        "id": "w37-rlQ3I8Er",
        "outputId": "a84214f9-e227-4554-b50f-c2947743d338"
      },
      "outputs": [
        {
          "output_type": "stream",
          "name": "stdout",
          "text": [
            "Enter your string:1234right\n",
            "It satisfies the condition\n"
          ]
        }
      ],
      "source": [
        "#Write a Python program to check that a string contains only a certain set of characters (in this case a-z, A-Z and 0-9).\n",
        "import re\n",
        "string=input(\"Enter your string:\")\n",
        "character=re.compile(\"[a-zA-Z0-9]+\")\n",
        "if character.fullmatch(string):\n",
        "  print(\"It satisfies the condition\")\n",
        "else:\n",
        "  print(\"It is not satisfying the condition\")"
      ]
    },
    {
      "cell_type": "code",
      "source": [
        "#Write a Python program that matches a string that has an a followed by zero or more b's\n",
        "import re\n",
        "def my_string(txt):\n",
        "  pattern=\"^a(b*)$\"\n",
        "  x=re.search(pattern,txt)\n",
        "  if x:\n",
        "    return(\"It matches the pattern\")\n",
        "  else:\n",
        "    return(\"It doesnot matches the pattern\")\n",
        "\n",
        "print(my_string(\"abbbb\"))\n",
        "print(my_string(\"abcf\"))\n",
        "print(my_string(\"a\"))"
      ],
      "metadata": {
        "colab": {
          "base_uri": "https://localhost:8080/"
        },
        "id": "orURWcOjLcYs",
        "outputId": "25464024-c4e4-473a-8cd2-7da160dea057"
      },
      "execution_count": 12,
      "outputs": [
        {
          "output_type": "stream",
          "name": "stdout",
          "text": [
            "It matches the pattern\n",
            "It doesnot matches the pattern\n",
            "It matches the pattern\n"
          ]
        }
      ]
    },
    {
      "cell_type": "code",
      "source": [
        "#Write a Python program that matches a string that has an a followed by one or more b's\n",
        "import re\n",
        "def my_string(txt):\n",
        "  pattern=\"^a(b+)$\"\n",
        "  x=re.search(pattern,txt)\n",
        "  if x:\n",
        "    return(\"It matches the pattern\")\n",
        "  else:\n",
        "    return(\"It doesnot matches the pattern\")\n",
        "\n",
        "print(my_string(\"abbbb\"))\n",
        "print(my_string(\"abcf\"))\n",
        "print(my_string(\"a\"))"
      ],
      "metadata": {
        "colab": {
          "base_uri": "https://localhost:8080/"
        },
        "id": "HRvmuP7fPZ7v",
        "outputId": "5d5b99a8-5fe6-4486-c10f-303c12e440ba"
      },
      "execution_count": 16,
      "outputs": [
        {
          "output_type": "stream",
          "name": "stdout",
          "text": [
            "It matches the pattern\n",
            "It doesnot matches the pattern\n",
            "It doesnot matches the pattern\n"
          ]
        }
      ]
    },
    {
      "cell_type": "code",
      "source": [
        "#Write a Python program that matches a string that has an a followed by zero or one 'b'\n",
        "import re\n",
        "def my_string(txt):\n",
        "  pattern=\"^a(b?)$\"\n",
        "  x=re.search(pattern,txt)\n",
        "  if x:\n",
        "    return(\"It matches the pattern\")\n",
        "  else:\n",
        "    return(\"It doesnot matches the pattern\")\n",
        "\n",
        "print(my_string(\"abbbb\"))\n",
        "print(my_string(\"abcf\"))\n",
        "print(my_string(\"a\"))\n",
        "print(my_string(\"ab\"))"
      ],
      "metadata": {
        "colab": {
          "base_uri": "https://localhost:8080/"
        },
        "id": "XsiA09nsQguQ",
        "outputId": "3233c2d3-4d3b-4c03-a482-40f4ebb9322b"
      },
      "execution_count": 17,
      "outputs": [
        {
          "output_type": "stream",
          "name": "stdout",
          "text": [
            "It doesnot matches the pattern\n",
            "It doesnot matches the pattern\n",
            "It matches the pattern\n",
            "It matches the pattern\n"
          ]
        }
      ]
    },
    {
      "cell_type": "code",
      "source": [
        "#Write a Python program that matches a string that has an a followed by three 'b'\n",
        "import re\n",
        "def my_string(txt):\n",
        "  pattern=\"a(b{3}?)\"\n",
        "  x=re.search(pattern,txt)\n",
        "  if x:\n",
        "    return(\"It matches the pattern\")\n",
        "  else:\n",
        "    return(\"It doesnot matches the pattern\")\n",
        "\n",
        "print(my_string(\"abbbb\"))\n",
        "print(my_string(\"abcf\"))\n",
        "print(my_string(\"a\"))\n",
        "print(my_string(\"ab\"))\n",
        "print(my_string(\"abbbabb\"))\n",
        "print(my_string(\"abbabababb\"))"
      ],
      "metadata": {
        "colab": {
          "base_uri": "https://localhost:8080/"
        },
        "id": "AIOqD6Q9QrgM",
        "outputId": "ed375e95-c956-420d-b0d7-f37bdb5d9c09"
      },
      "execution_count": 19,
      "outputs": [
        {
          "output_type": "stream",
          "name": "stdout",
          "text": [
            "It matches the pattern\n",
            "It doesnot matches the pattern\n",
            "It doesnot matches the pattern\n",
            "It doesnot matches the pattern\n",
            "It matches the pattern\n",
            "It doesnot matches the pattern\n"
          ]
        }
      ]
    },
    {
      "cell_type": "code",
      "source": [
        "#Write a Python program to find sequences of lowercase letters joined with an underscore\n",
        "import re\n",
        "def my_string(txt):\n",
        "  pattern=\"^[a-z]+_[a-z]\"\n",
        "  x=re.search(pattern,txt)\n",
        "  if x:\n",
        "    return(\"It is satisfying the given condition\")\n",
        "  else:\n",
        "    return(\"It is not satisfying the given condition\")\n",
        "\n",
        "print(my_string(\"abcfe_fsj\"))\n",
        "print(my_string(\"adds-gft\"))\n",
        "print(my_string(\"asde hytry\"))"
      ],
      "metadata": {
        "colab": {
          "base_uri": "https://localhost:8080/"
        },
        "id": "_uJTqJT4SPhf",
        "outputId": "066e489f-47e4-4f0d-983d-b6c83bdf6234"
      },
      "execution_count": 21,
      "outputs": [
        {
          "output_type": "stream",
          "name": "stdout",
          "text": [
            "It is satisfying the given condition\n",
            "It is not satisfying the given condition\n",
            "It is not satisfying the given condition\n"
          ]
        }
      ]
    },
    {
      "cell_type": "code",
      "source": [
        "#Write a Python program to test if a given page is found or not on the server.\n"
      ],
      "metadata": {
        "id": "MDHEHY3sT8Ah"
      },
      "execution_count": null,
      "outputs": []
    }
  ]
}